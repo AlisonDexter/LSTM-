{
 "cells": [
  {
   "cell_type": "code",
   "execution_count": 3,
   "metadata": {},
   "outputs": [],
   "source": [
    "import numpy as np\n",
    "import torch\n",
    "import torch.nn as nn\n",
    "import torch.optim as optim\n",
    "import torch.utils.data as data"
   ]
  },
  {
   "cell_type": "code",
   "execution_count": 4,
   "metadata": {},
   "outputs": [
    {
     "name": "stdout",
     "output_type": "stream",
     "text": [
      "Total Characters:  9481231\n",
      "Total Vocab:  4677\n"
     ]
    }
   ],
   "source": [
    "filename = 'split_7.txt'\n",
    "raw_text = open(filename, 'r', encoding='utf-8').read()\n",
    "chars = sorted(list(set(raw_text)))\n",
    "# 创建唯一字符到整数的映射\n",
    "char_to_int = dict((c, i) for i, c in enumerate(chars))\n",
    "# summarize the loaded data\n",
    "n_chars = len(raw_text)\n",
    "n_vocab = len(chars)\n",
    "print(\"Total Characters: \", n_chars)\n",
    "print(\"Total Vocab: \", n_vocab)"
   ]
  },
  {
   "cell_type": "code",
   "execution_count": 5,
   "metadata": {},
   "outputs": [
    {
     "name": "stdout",
     "output_type": "stream",
     "text": [
      "Total Patterns: 9481131\n"
     ]
    }
   ],
   "source": [
    "seq_length = 100\n",
    "dataX = []\n",
    "dataY = []\n",
    "for i in range(0,n_chars-seq_length,1):\n",
    "    seq_in = raw_text[i:i+seq_length]\n",
    "    seq_out = raw_text[i+seq_length]\n",
    "    dataX.append([char_to_int[char] for char in seq_in])\n",
    "    dataY.append(char_to_int[seq_out])\n",
    "n_patterns = len(dataX)\n",
    "print(\"Total Patterns:\",n_patterns)"
   ]
  },
  {
   "cell_type": "code",
   "execution_count": 6,
   "metadata": {},
   "outputs": [
    {
     "name": "stdout",
     "output_type": "stream",
     "text": [
      "torch.Size([9481131, 100, 1]) torch.Size([9481131])\n"
     ]
    }
   ],
   "source": [
    "X = torch.tensor(dataX,dtype=torch.float32).reshape(n_patterns,seq_length,1)\n",
    "X = X/float(n_vocab)\n",
    "y = torch.tensor(dataY)\n",
    "print(X.shape,y.shape)"
   ]
  },
  {
   "cell_type": "code",
   "execution_count": 7,
   "metadata": {},
   "outputs": [],
   "source": [
    "class CharModel(nn.Module):\n",
    "    def __init__(self):\n",
    "        super().__init__()\n",
    "        self.lstm = nn.LSTM(input_size=1,hidden_size=256,num_layers=2,batch_first=True,dropout=0.2)\n",
    "        self.dropout = nn.Dropout(0.2)\n",
    "        self.linear = nn.Linear(256, n_vocab)\n",
    "    def forward(self,x):\n",
    "        x,_ = self.lstm(x)\n",
    "        # tkae only the last output\n",
    "        x = x[:,-1,:]\n",
    "        # produc output\n",
    "        x = self.linear(self.dropout(x))\n",
    "        return x"
   ]
  },
  {
   "cell_type": "code",
   "execution_count": 8,
   "metadata": {},
   "outputs": [],
   "source": [
    "class BiLSTMModel(nn.Module):\n",
    "    def __init__(self, n_vocab=10000):  # 设置默认值\n",
    "        super().__init__()\n",
    "        self.lstm = nn.LSTM(input_size=1, hidden_size=256, num_layers=2, batch_first=True, dropout=0.2, bidirectional=True)\n",
    "        self.dropout = nn.Dropout(0.2)\n",
    "        self.linear = nn.Linear(256 * 2, n_vocab)\n",
    "       \n",
    "    def forward(self, x):\n",
    "        x, _ = self.lstm(x)\n",
    "        x = x[:, -1, :]\n",
    "        x = self.linear(self.dropout(x))\n",
    "        return x\n"
   ]
  },
  {
   "cell_type": "code",
   "execution_count": 14,
   "metadata": {},
   "outputs": [
    {
     "name": "stdout",
     "output_type": "stream",
     "text": [
      "cuda\n",
      "Epoch 0: Cross-entropy: 25686868.0000\n",
      "Epoch 1: Cross-entropy: 25456712.0000\n",
      "Epoch 2: Cross-entropy: 24028546.0000\n",
      "Epoch 3: Cross-entropy: 23259928.0000\n",
      "Epoch 4: Cross-entropy: 22753132.0000\n",
      "Epoch 5: Cross-entropy: 22436572.0000\n",
      "Epoch 6: Cross-entropy: 27116356.0000\n",
      "Epoch 7: Cross-entropy: 25849936.0000\n",
      "Epoch 8: Cross-entropy: 24054394.0000\n",
      "Epoch 9: Cross-entropy: 23157654.0000\n"
     ]
    }
   ],
   "source": [
    "n_epochs = 10\n",
    "batch_size=128\n",
    "model = BiLSTMModel()\n",
    "\n",
    "optimizer = optim.Adam(model.parameters())\n",
    "loss_fn = nn.CrossEntropyLoss(reduction = 'sum')\n",
    "loader = data.DataLoader(data.TensorDataset(X, y), shuffle=True, batch_size=batch_size)\n",
    "best_model = None\n",
    "best_loss = np.inf\n",
    "device = torch.device(\"cuda\" if torch.cuda.is_available() else \"cpu\")\n",
    "print(device)\n",
    "model.to(device)\n",
    "for epoch in range(n_epochs):\n",
    "    model.train()\n",
    "    for X_batch, y_batch in loader:\n",
    "        y_pred = model(X_batch.to(device))\n",
    "        loss = loss_fn(y_pred, y_batch.to(device))\n",
    "        optimizer.zero_grad()\n",
    "        loss.backward()\n",
    "        optimizer.step()\n",
    "    # Validation\n",
    "    model.eval()\n",
    "    loss = 0\n",
    "    with torch.no_grad():\n",
    "        for X_batch, y_batch in loader:\n",
    "            y_pred = model(X_batch.to(device))\n",
    "            loss += loss_fn(y_pred, y_batch.to(device))\n",
    "       \n",
    "        if loss < best_loss:\n",
    "            best_loss = loss\n",
    "            best_model = model.state_dict()\n",
    "        print(\"Epoch %d: Cross-entropy: %.4f\" % (epoch, loss))                                                                         \n",
    "\n",
    "torch.save([best_model, char_to_int], \"single-char-bilstm.pth\")"
   ]
  },
  {
   "cell_type": "code",
   "execution_count": 10,
   "metadata": {},
   "outputs": [
    {
     "data": {
      "text/plain": [
       "<All keys matched successfully>"
      ]
     },
     "execution_count": 10,
     "metadata": {},
     "output_type": "execute_result"
    }
   ],
   "source": [
    "best_model, char_to_int = torch.load(\"single-char-bilstm.pth\")\n",
    "#model = CharModel()\n",
    "model=BiLSTMModel()\n",
    "n_vocab = len(char_to_int)\n",
    "int_to_char = dict((i,c) for c, i in char_to_int.items())\n",
    "model.load_state_dict(best_model)"
   ]
  },
  {
   "cell_type": "code",
   "execution_count": 12,
   "metadata": {},
   "outputs": [
    {
     "name": "stdout",
     "output_type": "stream",
     "text": [
      "Prompt: \" 到 最 后 它 到 达 了 陆 地 — — 到 达 一 块 陌 生 的 陆 地 。 这 儿 人 们\"\n",
      " 的 一 个 小 子 的 一 个 小 子 的 小 子 ， 他 们 都 是 一 个 小 子 的 人 。 \n",
      " “ 我 们 的 一 个 人 么 也 不 会 的 。 ” \n",
      " “ 我 们 的 一 个 人 么 ？ ” 他 说 ， “ 我 们 的 心 子 是 一 个 人 么 的 事 情 。 ” \n",
      " “ 我 的 ， ” 医 生 说 ， “ 我 们 的 到 一 个 人 么 也 不 会 的 。 ” \n",
      " “ 我 的 ，\n",
      "Done.\n"
     ]
    }
   ],
   "source": [
    "# randomly generate a prompt\n",
    "temperature = 1 # 温度参数，用于控制输出的随机性\n",
    "seq_length = 50\n",
    "start = np.random.randint(0, len(raw_text)-seq_length)\n",
    "prompt = raw_text[start:start+seq_length]\n",
    "#prompt = \"我说你好\"\n",
    "pattern = [char_to_int[c] for c in prompt]\n",
    "device = torch.device(\"cuda:0\" if torch.cuda.is_available() else \"cpu\")\n",
    "model.to(device)\n",
    "model.eval()\n",
    "print('Prompt: \"%s\"' % (prompt))\n",
    "with torch.no_grad():\n",
    "    for i in range(200):\n",
    "        x = np.reshape(pattern, (1, len(pattern), 1)) / float(n_vocab)\n",
    "        x = torch.tensor(x, dtype=torch.float32)\n",
    "        prediction = model(x.to(device))\n",
    "        prediction /= temperature\n",
    "        index = int(prediction.argmax())\n",
    "        result = int_to_char[index]\n",
    "        print(result, end='')\n",
    "        pattern.append(index)\n",
    "        pattern = pattern[1:]\n",
    "print()\n",
    "print(\"Done.\")"
   ]
  }
 ],
 "metadata": {
  "kernelspec": {
   "display_name": "p11",
   "language": "python",
   "name": "python3"
  },
  "language_info": {
   "codemirror_mode": {
    "name": "ipython",
    "version": 3
   },
   "file_extension": ".py",
   "mimetype": "text/x-python",
   "name": "python",
   "nbconvert_exporter": "python",
   "pygments_lexer": "ipython3",
   "version": "3.11.10"
  }
 },
 "nbformat": 4,
 "nbformat_minor": 2
}
